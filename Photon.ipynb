{
 "cells": [
  {
   "cell_type": "code",
   "execution_count": 1,
   "metadata": {},
   "outputs": [],
   "source": [
    "%load_ext autoreload\n",
    "from coffea import hist, util\n",
    "\n",
    "import coffea.processor as processor\n",
    "from coffea.nanoevents import NanoEventsFactory, NanoAODSchema\n",
    "import awkward as ak\n",
    "import numpy as np\n",
    "import uproot\n",
    "\n",
    "from pprint import pprint\n",
    "import matplotlib.pyplot as plt"
   ]
  },
  {
   "cell_type": "code",
   "execution_count": 2,
   "metadata": {},
   "outputs": [],
   "source": [
    "%autoreload 2\n",
    "import sys \n",
    "import os\n",
    "\n",
    "module_path = os.path.abspath(os.path.join('..'))\n",
    "if module_path not in sys.path:\n",
    "    sys.path.append(module_path)\n"
   ]
  },
  {
   "cell_type": "code",
   "execution_count": 3,
   "metadata": {},
   "outputs": [],
   "source": [
    "from ttgenv.Utils.plotting import plotWithRatio\n",
    "from ttgenv.Utils.genParentage import maxHistoryPDGID"
   ]
  },
  {
   "cell_type": "code",
   "execution_count": 4,
   "metadata": {},
   "outputs": [],
   "source": [
    "class PhotonSelector(processor.ProcessorABC):\n",
    "    def __init__(self, isMC=False):\n",
    "        # In the initializer, any of the outputs you would like to produce are defined (ex. histograms)\n",
    "        # Coffea histograms are defined in the same way as in the previous exercise\n",
    "        # define a list of axes first\n",
    "        #Declare axis\n",
    "        dataset_axis = hist.Cat(\"dataset\",\"Dataset\")\n",
    "        \n",
    "        ## Define axis to keep track of photon category\n",
    "        phoCategory_axis = hist.Bin(\"category\", r\"Photon Category\", [1,2,3,4,5])\n",
    "        phoCategory_axis.identifiers()[0].label = \"Genuine Photon\"    \n",
    "        phoCategory_axis.identifiers()[1].label = \"Misidentified Electron\"    \n",
    "        phoCategory_axis.identifiers()[2].label = \"Hadronic Photon\"    \n",
    "        phoCategory_axis.identifiers()[3].label = \"Hadronic Fake\"    \n",
    "        \n",
    "        #Declare axis \n",
    "        #m3_axis = hist.Bin(\"M3\", r\"$M_3$ [GeV]\", 40, 0., 1000)\n",
    "        mass_axis = hist.Bin(\"mass\", r\"$m_{\\ell\\gamma}$ [GeV]\", 40, -10., 10)\n",
    "        pt_axis = hist.Bin(\"pt\", r\"$p_{T}$ [GeV]\", 40, 0., 400)\n",
    "        eta_axis = hist.Bin(\"eta\", r\"$\\eta_{\\gamma}$\", 50, -2.5, 2.5)\n",
    "        #chIso_axis = hist.Bin(\"chIso\", r\"Charged Hadron Isolation\", np.arange(-0.1,20.001,.05))\n",
    "        \n",
    "        relIso_axis=hist.Bin(\"relIso\", \"relIso\", 50,-4.5,4.5)\n",
    "        phi_axis = hist.Bin(\"phi\",\"$\\phi$\", 64, -3.2, 3.2)\n",
    "        \n",
    "        \n",
    "        #Define the accumulator object, a dictionary storing all of the histograms and counters \n",
    "        #that we will fill later in the process function\n",
    "        self.isMC = isMC\n",
    "\n",
    "        self._accumulator = processor.dict_accumulator({\n",
    "            'photon_pt': hist.Hist(\"Counts\", dataset_axis, pt_axis),\n",
    "            'photon_eta': hist.Hist(\"Counts\", dataset_axis, eta_axis),\n",
    "            'photon_phi': hist.Hist(\"Counts\", dataset_axis, phi_axis),\n",
    "            'photon_mass': hist.Hist(\"Counts\", dataset_axis, mass_axis),\n",
    "            \n",
    "            'tight_photon_pt': hist.Hist(\"Counts\", dataset_axis, pt_axis),\n",
    "            'tight_photon_eta': hist.Hist(\"Counts\", dataset_axis, eta_axis),\n",
    "            'tight_photon_phi': hist.Hist(\"Counts\", dataset_axis, phi_axis),\n",
    "            'tight_photon_mass': hist.Hist(\"Counts\", dataset_axis, mass_axis),\n",
    "        \n",
    "            \n",
    "            'charge':processor.column_accumulator(np.ndarray(shape=(1,8))),\n",
    "            'cleanmask':processor.column_accumulator(np.ndarray(shape=(1,8))),\n",
    "            'cutBased':processor.column_accumulator(np.ndarray(shape=(1,8))),\n",
    "            'cutBased17Bitmap':processor.column_accumulator(np.ndarray(shape=(1,8))),\n",
    "            'eCorr':processor.column_accumulator(np.ndarray(shape=(1,8))),\n",
    "            'electronIdx':processor.column_accumulator(np.ndarray(shape=(1,8))),\n",
    "            'electronIdxG':processor.column_accumulator(np.ndarray(shape=(1,8))),\n",
    "            'electronVeto':processor.column_accumulator(np.ndarray(shape=(1,8))),\n",
    "            'energyErr':processor.column_accumulator(np.ndarray(shape=(1,8))),\n",
    "            'genPartFlav':processor.column_accumulator(np.ndarray(shape=(1,8))),\n",
    "            'genPartIdx':processor.column_accumulator(np.ndarray(shape=(1,8))),\n",
    "            'genPartIdxG':processor.column_accumulator(np.ndarray(shape=(1,8))),\n",
    "            'hoe':processor.column_accumulator(np.ndarray(shape=(1,8))),\n",
    "            'isScEtaEB':processor.column_accumulator(np.ndarray(shape=(1,8))),\n",
    "            'isScEtaEE':processor.column_accumulator(np.ndarray(shape=(1,8))),\n",
    "            'jetIdx':processor.column_accumulator(np.ndarray(shape=(1,8))),\n",
    "            'jetIdxG':processor.column_accumulator(np.ndarray(shape=(1,8))),\n",
    "           # 'mass':processor.column_accumulator(np.ndarray(shape=(1,8))),\n",
    "            'mvaID':processor.column_accumulator(np.ndarray(shape=(1,8))),\n",
    "            'mvaID17':processor.column_accumulator(np.ndarray(shape=(1,8))),\n",
    "            'mvaID17_WP80':processor.column_accumulator(np.ndarray(shape=(1,8))),\n",
    "            'mvaID17_WP90':processor.column_accumulator(np.ndarray(shape=(1,8))),\n",
    "            'mvaID_WP80':processor.column_accumulator(np.ndarray(shape=(1,8))),\n",
    "            'mvaID_WP90':processor.column_accumulator(np.ndarray(shape=(1,8))),\n",
    "            'pdgId':processor.column_accumulator(np.ndarray(shape=(1,8))),\n",
    "            \n",
    "            'pfRelIso03_all':processor.column_accumulator(np.ndarray(shape=(1,8))),\n",
    "            'pfRelIso03_chg':processor.column_accumulator(np.ndarray(shape=(1,8))),\n",
    "            \n",
    "            'pixelSeed':processor.column_accumulator(np.ndarray(shape=(1,8))),\n",
    "            'r9':processor.column_accumulator(np.ndarray(shape=(1,8))),\n",
    "            'seedGain':processor.column_accumulator(np.ndarray(shape=(1,8))),\n",
    "            'sieie':processor.column_accumulator(np.ndarray(shape=(1,8))),\n",
    "            'vidNestedWPBitmap':processor.column_accumulator(np.ndarray(shape=(1,8))),\n",
    "          \n",
    "            \n",
    "            \n",
    "            'EventCount': processor.value_accumulator(int),\n",
    "\n",
    "        }\n",
    "        )\n",
    "        \n",
    "\n",
    "    @property\n",
    "    def accumulator(self):\n",
    "        return self._accumulator\n",
    "\n",
    "    \n",
    "\n",
    "    # The process method is where the heart of the analysis is.  \n",
    "    # This is where all of the selections are done and the histograms get filled \n",
    "    #  (things you did in notebook cells before will be done here instead)\n",
    "    def process(self, events):\n",
    "        ### The process function is where most of the work happens. As we'll see below, this is\n",
    "        ### where the main analysis work happens (object cuts, event selections, filling histograms). \n",
    "        \n",
    "        output = self.accumulator.identity()\n",
    "        output['EventCount'] = len(events)\n",
    "\n",
    "        dataset = events.metadata['dataset']\n",
    "        ######################\n",
    "        ###Object Selection###\n",
    "        ######################\n",
    "        \n",
    "        #Add Tight Muon Select\n",
    "        muons=events.Muon\n",
    "        muonSelectTight = ((muons.pt>30) &\n",
    "                           (abs(muons.eta)<2.4) &\n",
    "                           (muons.tightId) &\n",
    "                           (muons.pfRelIso04_all < 0.15)\n",
    "                          )\n",
    "        #Add Jet Select\n",
    "        jets=events.Jet\n",
    "        jetSelectTight = ((jets.pt>30) &\n",
    "                          (abs(jets.eta)<2.4) &\n",
    "                          (jets.isTight)\n",
    "                         )\n",
    "\n",
    "        #Add b-tagged Jet Select\n",
    "        btaggedJetSelect = (jetSelectTight &\n",
    "                           (jets.btagDeepB>0.6321)\n",
    "                          )\n",
    "        \n",
    "        #Add Electron Select\n",
    "        electrons=events.Electron\n",
    "        electronSelectTight = ((electrons.pt> 35) &\n",
    "                           (abs(electrons.eta)<2.1) &\n",
    "                            electrons.cutBased>=4   \n",
    "                         )\n",
    "        #Add Photon Select\n",
    "        photon=events.Photon\n",
    "        photonSelect= ((photon.pt>20) & \n",
    "                        (abs(photon.eta) < 1.4442) &\n",
    "                        (photon.isScEtaEE | photon.isScEtaEB) &\n",
    "                        (photon.electronVeto) & \n",
    "                        np.invert(photon.pixelSeed) \n",
    "                       )\n",
    "        photonID= photon.cutBased >=2\n",
    "        #Apply Selection\n",
    "        tightMuons = muons[muonSelectTight]\n",
    "        tightJets = jets[jetSelectTight]\n",
    "        tightBJets = jets[btaggedJetSelect]\n",
    "        photons = photon[photonSelect]\n",
    "        tightPho =photon[(photonID & photonSelect)]\n",
    "        tightEle = electrons[electronSelectTight]\n",
    "        \n",
    "        #####################\n",
    "        ###Event Selection###\n",
    "        #####################\n",
    "        \n",
    "        #Apply trigger and add event selection \n",
    "        trigger = events.HLT.IsoMu24 | events.HLT.IsoTkMu24\n",
    "        \n",
    "        one_muon=(ak.num(tightMuons)==1)\n",
    "        four_jets=(ak.num(tightJets)>=4)\n",
    "        btag_jet=(ak.num(tightBJets)>=1)\n",
    "        zero_ele=(ak.num(tightEle)==0)\n",
    "        one_photon=(ak.num(tightPho)==1)\n",
    "        \n",
    "        # Select events passing the trigger, with exactly one tight muon, one tight photon, no electrons,  ≥4 jets, and ≥ 1 b-tagged jets. \n",
    "        eventSelection = (trigger &\n",
    "                          one_muon &\n",
    "                          four_jets & \n",
    "                          btag_jet &\n",
    "                         # one_photon &\n",
    "                          zero_ele)\n",
    "        \n",
    "        #E=events[eventSelection]\n",
    "        leading_pho=tightPho[:,:1]\n",
    "        #Photon=leading_pho[eventSelection]\n",
    "        '''\n",
    "        #####################\n",
    "        ###Photon Category###\n",
    "        #####################\n",
    "        if self.isMC:\n",
    "            idx = ak.to_numpy(ak.flatten(abs(events.GenPart.pdgId)))\n",
    "            par = ak.to_numpy(ak.flatten(events.GenPart.genPartIdxMother))\n",
    "            num = ak.to_numpy(ak.num(events.GenPart.pdgId))        \n",
    "            maxParentFlatten = maxHistoryPDGID(idx,par,num)\n",
    "            events[\"GenPart\",\"maxParent\"] = ak.unflatten(maxParentFlatten, num)\n",
    "            \n",
    "        # Define photon category for each event\n",
    "        phoCategory = np.ones(len(events))\n",
    "        \n",
    "        if self.isMC:\n",
    "            matchedPho = ak.any(leading_pho.matched_gen.pdgId==22, axis=-1)\n",
    "            matchedEle =  ak.any(abs(leading_pho.matched_gen.pdgId)==11, axis=-1)\n",
    "            hadronicParent = ak.any(leading_pho.matched_gen.maxParent>25, axis=-1)\n",
    "            \n",
    "            isGenPho = matchedPho & ~hadronicParent\n",
    "            isHadPho = matchedPho & hadronicParent\n",
    "            isMisIDele = matchedEle\n",
    "            isHadFake =  ~(isMisIDele | isGenPho | isHadPho) & (ak.num(leading_pho)==1)\n",
    "\n",
    "            #define integer definition for the photon category axis \n",
    "            phoCategory = 1*isGenPho + 2*isMisIDele + 3*isHadPho + 4*isHadFake\n",
    "        \n",
    "        '''\n",
    "        ##Fill Histograms\n",
    "        \n",
    "        \n",
    "        output['photon_pt'].fill(dataset=dataset,pt=ak.flatten(photons.pt[:,:1][eventSelection])) \n",
    "        output['photon_eta'].fill(dataset=dataset,eta=ak.flatten(photons.eta[:,:1][eventSelection])) \n",
    "        output['photon_mass'].fill(dataset=dataset,mass=ak.flatten(photons.mass[:,:1][eventSelection])) \n",
    "        output['photon_phi'].fill(dataset=dataset,phi=ak.flatten(photons.phi[:,:1][eventSelection])) \n",
    "        \n",
    "        output['tight_photon_pt'].fill(dataset=dataset,pt=ak.flatten(tightPho.pt[:,:1][eventSelection])) \n",
    "        output['tight_photon_eta'].fill(dataset=dataset,eta=ak.flatten(tightPho.eta[:,:1][eventSelection])) \n",
    "        output['tight_photon_mass'].fill(dataset=dataset,mass=ak.flatten(tightPho.mass[:,:1][eventSelection])) \n",
    "        output['tight_photon_phi'].fill(dataset=dataset,phi=ak.flatten(tightPho.phi[:,:1][eventSelection])) \n",
    "        \n",
    "        return output\n",
    "        '''  \n",
    "        charge=processor.column_accumulator(np.array(ak.to_numpy(ak.pad_none(tightPho.charge[:,:1][eventSelection],8,clip=True))))\n",
    "        output['charge']+=charge\n",
    "        \n",
    "        \n",
    "        cleanmask=processor.column_accumulator(np.array(ak.to_numpy(ak.pad_none(tightPho.cleanmask[:,:1][eventSelection],8,clip=True))))\n",
    "        output['cleanmask']+=cleanmask\n",
    "\n",
    "        \n",
    "        cutBased=processor.column_accumulator(np.array(ak.to_numpy(ak.pad_none(tightPho.cutBased[:,:1][eventSelection],8,clip=True))))\n",
    "        output['cutBased']+=cutBased\n",
    "\n",
    "        \n",
    "        cutBased17Bitmap=processor.column_accumulator(np.array(ak.to_numpy(ak.pad_none(tightPho.cutBased17Bitmap[:,:1][eventSelection],8,clip=True))))\n",
    "        output['cutBased17Bitmap']+=cutBased17Bitmap\n",
    "\n",
    "        \n",
    "        eCorr=processor.column_accumulator(np.array(ak.to_numpy(ak.pad_none(tightPho.eCorr[:,:1][eventSelection],8,clip=True))))\n",
    "        output['eCorr']+=eCorr\n",
    "    \n",
    "        \n",
    "        electronIdx=processor.column_accumulator(np.array(ak.to_numpy(ak.pad_none(tightPho.electronIdx[:,:1][eventSelection],8,clip=True))))\n",
    "        output['electronIdx']+=electronIdx\n",
    "\n",
    "        \n",
    "        electronIdxG=processor.column_accumulator(np.array(ak.to_numpy(ak.pad_none(tightPho.electronIdxG[:,:1][eventSelection],8,clip=True))))\n",
    "        output['electronIdxG']+=electronIdxG\n",
    "\n",
    "        \n",
    "        electronVeto=processor.column_accumulator(np.array(ak.to_numpy(ak.pad_none(tightPho.electronVeto[:,:1][eventSelection],8,clip=True))))\n",
    "        output['electronVeto']+=electronVeto\n",
    "\n",
    "        \n",
    "        energyErr=processor.column_accumulator(np.array(ak.to_numpy(ak.pad_none(tightPho.energyErr[:,:1][eventSelection],8,clip=True))))\n",
    "        output['energyErr']+=energyErr\n",
    "\n",
    "        if self.isMC:\n",
    "            \n",
    "            genPartFlav=processor.column_accumulator(np.array(ak.to_numpy(ak.pad_none(tightPho.genPartFlav[:,:1][eventSelection],8,clip=True))))\n",
    "            output['genPartFlav']+=genPartFlav\n",
    "\n",
    "        \n",
    "            genPartIdx=processor.column_accumulator(np.array(ak.to_numpy(ak.pad_none(tightPho.genPartIdx[:,:1][eventSelection],8,clip=True))))\n",
    "            output['genPartIdx']+=genPartIdx\n",
    "\n",
    "        \n",
    "            genPartIdxG=processor.column_accumulator(np.array(ak.to_numpy(ak.pad_none(tightPho.genPartIdxG[:,:1][eventSelection],8,clip=True))))\n",
    "            output['genPartIdxG']+=genPartIdxG\n",
    "\n",
    "        \n",
    "        hoe=processor.column_accumulator(np.array(ak.to_numpy(ak.pad_none(tightPho.hoe[:,:1][eventSelection],8,clip=True))))\n",
    "        output['hoe']+=hoe\n",
    "\n",
    "        \n",
    "        isScEtaEB=processor.column_accumulator(np.array(ak.to_numpy(ak.pad_none(tightPho.isScEtaEB[:,:1][eventSelection],8,clip=True))))\n",
    "        output['isScEtaEB']+=isScEtaEB\n",
    "\n",
    "        \n",
    "        isScEtaEE=processor.column_accumulator(np.array(ak.to_numpy(ak.pad_none(tightPho.isScEtaEE[:,:1][eventSelection],8,clip=True))))\n",
    "        output['isScEtaEE']+=isScEtaEE\n",
    "\n",
    "        \n",
    "        jetIdx=processor.column_accumulator(np.array(ak.to_numpy(ak.pad_none(tightPho.jetIdx[:,:1][eventSelection],8,clip=True))))\n",
    "        output['jetIdx']+=jetIdx\n",
    "\n",
    "        \n",
    "        jetIdxG=processor.column_accumulator(np.array(ak.to_numpy(ak.pad_none(tightPho.jetIdxG[:,:1][eventSelection],8,clip=True))))\n",
    "        output['jetIdxG']+=jetIdxG\n",
    "\n",
    "        \n",
    "        mvaID=processor.column_accumulator(np.array(ak.to_numpy(ak.pad_none(tightPho.mvaID[:,:1][eventSelection],8,clip=True))))\n",
    "        output['mvaID']+=mvaID\n",
    "\n",
    "        \n",
    "        mvaID17=processor.column_accumulator(np.array(ak.to_numpy(ak.pad_none(tightPho.mvaID17[:,:1][eventSelection],8,clip=True))))\n",
    "        output['mvaID17']+=mvaID17\n",
    "\n",
    "        \n",
    "        mvaID17_WP80=processor.column_accumulator(np.array(ak.to_numpy(ak.pad_none(tightPho.mvaID17_WP80[:,:1][eventSelection],8,clip=True))))\n",
    "        output['mvaID17_WP80']+=mvaID17_WP80\n",
    "\n",
    "        \n",
    "        mvaID17_WP90=processor.column_accumulator(np.array(ak.to_numpy(ak.pad_none(tightPho.mvaID17_WP90[:,:1][eventSelection],8,clip=True))))\n",
    "        output['mvaID17_WP90']+=mvaID17_WP90\n",
    "\n",
    "        \n",
    "        mvaID_WP80=processor.column_accumulator(np.array(ak.to_numpy(ak.pad_none(tightPho.mvaID_WP80[:,:1][eventSelection],8,clip=True))))\n",
    "        output['mvaID_WP80']+=mvaID_WP80\n",
    "\n",
    "        \n",
    "        mvaID_WP90=processor.column_accumulator(np.array(ak.to_numpy(ak.pad_none(tightPho.mvaID_WP90[:,:1][eventSelection],8,clip=True))))\n",
    "        output['mvaID_WP90']+=mvaID_WP90\n",
    "\n",
    "        \n",
    "        pdgId=processor.column_accumulator(np.array(ak.to_numpy(ak.pad_none(tightPho.pdgId[:,:1][eventSelection],8,clip=True))))\n",
    "        output['pdgId']+=pdgId\n",
    "\n",
    "            \n",
    "        pfRelIso03_all=processor.column_accumulator(np.array(ak.to_numpy(ak.pad_none(tightPho.pfRelIso03_all[:,:1][eventSelection],8,clip=True))))\n",
    "        output['pfRelIso03_all']+=pfRelIso03_all\n",
    "\n",
    "        \n",
    "        pfRelIso03_chg=processor.column_accumulator(np.array(ak.to_numpy(ak.pad_none(tightPho.pfRelIso03_chg[:,:1][eventSelection],8,clip=True))))\n",
    "        output['pfRelIso03_chg']+=pfRelIso03_chg\n",
    "   \n",
    "        pixelSeed=processor.column_accumulator(np.array(ak.to_numpy(ak.pad_none(tightPho.pixelSeed[:,:1][eventSelection],8,clip=True))))\n",
    "        output['pixelSeed']+=pixelSeed\n",
    "\n",
    "        \n",
    "        r9=processor.column_accumulator(np.array(ak.to_numpy(ak.pad_none(tightPho.r9[:,:1][eventSelection],8,clip=True))))\n",
    "        output['r9']+=r9\n",
    "\n",
    "        \n",
    "        seedGain=processor.column_accumulator(np.array(ak.to_numpy(ak.pad_none(tightPho.seedGain[:,:1][eventSelection],8,clip=True))))\n",
    "        output['seedGain']+=seedGain\n",
    "\n",
    "        \n",
    "        sieie=processor.column_accumulator(np.array(ak.to_numpy(ak.pad_none(tightPho.sieie[:,:1][eventSelection],8,clip=True))))\n",
    "        output['sieie']+=sieie\n",
    "\n",
    "        \n",
    "        vidNestedWPBitmap=processor.column_accumulator(np.array(ak.to_numpy(ak.pad_none(tightPho.vidNestedWPBitmap[:,:1][eventSelection],8,clip=True)))) \n",
    "        output['vidNestedWPBitmap']+=vidNestedWPBitmap\n",
    "        \n",
    "        \n",
    "        return output\n",
    "'''\n",
    "    def postprocess(self, accumulator):\n",
    "        return accumulator"
   ]
  },
  {
   "cell_type": "code",
   "execution_count": 5,
   "metadata": {},
   "outputs": [],
   "source": [
    "#Define files to run over\n",
    "skimDir=\"root://cmseos.fnal.gov//store/user/lpctop/TTGamma_FullRun2/Skims_v6-2/2016/\"\n",
    "\n",
    "fileset = {\"TTGamma\":[f\"{skimDir}/TTGamma_SingleLept_2016_skim.root\"],\n",
    "           \"TTbar\":[f\"{skimDir}/TTbarPowheg_Semilept_2016_skim_1of10.root\",\n",
    "                    f\"{skimDir}/TTbarPowheg_Semilept_2016_skim_2of10.root\"],\n",
    "           \"WGamma\":[f\"{skimDir}/WGamma_2016_skim.root\"],\n",
    "           \"Z+jets\":[f'{skimDir}/DYjetsM50_ext2_2016_skim_1of10.root'],\n",
    "           \"W+3jets\":[f\"{skimDir}/W3jets_2016_skim.root\"],\n",
    "           \"W+4jets\":[f\"{skimDir}/W4jets_2016_skim.root\"],\n",
    "          }\n",
    "\n",
    "filesetData = {\"DataMu\":[f\"{skimDir}/Data_SingleMu_b_2016_skim_1of10.root\"],\n",
    "              }"
   ]
  },
  {
   "cell_type": "code",
   "execution_count": 6,
   "metadata": {},
   "outputs": [
    {
     "data": {
      "application/vnd.jupyter.widget-view+json": {
       "model_id": "c51d974dbde94f19bf801ec19785a805",
       "version_major": 2,
       "version_minor": 0
      },
      "text/plain": [
       "Preprocessing:   0%|          | 0/7 [00:00<?, ?file/s]"
      ]
     },
     "metadata": {},
     "output_type": "display_data"
    },
    {
     "data": {
      "application/vnd.jupyter.widget-view+json": {
       "model_id": "0efd00f7fe494821b25a2ce793f21945",
       "version_major": 2,
       "version_minor": 0
      },
      "text/plain": [
       "Processing:   0%|          | 0/23 [00:00<?, ?chunk/s]"
      ]
     },
     "metadata": {},
     "output_type": "display_data"
    }
   ],
   "source": [
    "np.warnings.filterwarnings('ignore')\n",
    "\n",
    "#the NanoAODSchema needs to be adjusted, to remove cross references to FSRPhotons\n",
    "class SkimmedSchema(NanoAODSchema):\n",
    "    def __init__(self, base_form):\n",
    "        base_form[\"contents\"].pop(\"Muon_fsrPhotonIdx\", None)\n",
    "        super().__init__(base_form)\n",
    "\n",
    "#Run Coffea code using uproot\n",
    "outputMC = processor.run_uproot_job(\n",
    "    fileset,  #dictionary of datasets to run on, defined earlier in this cell\n",
    "    \"Events\", #Name of the TTree you will be opening\n",
    "    PhotonSelector(isMC=True),  #Coffea processor you defined\n",
    "    processor.futures_executor,\n",
    "    executor_args={\"schema\": SkimmedSchema,'workers': 4},  ## workers = 2, parallelize jobs, running 2 at once\n",
    "    chunksize=1000000, #in each chunk, use 1 million events\n",
    "#     maxchunks=3, #limit to using only 3 chunks for each dataset (useful for testing purposes)\n",
    ")"
   ]
  },
  {
   "cell_type": "code",
   "execution_count": 7,
   "metadata": {},
   "outputs": [],
   "source": [
    "#outputMC"
   ]
  },
  {
   "cell_type": "code",
   "execution_count": 8,
   "metadata": {},
   "outputs": [
    {
     "data": {
      "application/vnd.jupyter.widget-view+json": {
       "model_id": "36adf3e4aad14b509a95681fd30dba06",
       "version_major": 2,
       "version_minor": 0
      },
      "text/plain": [
       "Preprocessing:   0%|          | 0/1 [00:00<?, ?file/s]"
      ]
     },
     "metadata": {},
     "output_type": "display_data"
    },
    {
     "data": {
      "application/vnd.jupyter.widget-view+json": {
       "model_id": "70a12305fbc04c618d5ea9ec9a34cd97",
       "version_major": 2,
       "version_minor": 0
      },
      "text/plain": [
       "Processing:   0%|          | 0/6 [00:00<?, ?chunk/s]"
      ]
     },
     "metadata": {},
     "output_type": "display_data"
    }
   ],
   "source": [
    "outputData = processor.run_uproot_job(\n",
    "    filesetData,\n",
    "    \"Events\",\n",
    "    PhotonSelector(),\n",
    "    processor.futures_executor,\n",
    "    executor_args={\"schema\": SkimmedSchema,'workers': 4}, \n",
    "    chunksize=1000000,\n",
    ")\n"
   ]
  },
  {
   "cell_type": "code",
   "execution_count": 9,
   "metadata": {},
   "outputs": [],
   "source": [
    "nEvents = {}\n",
    "for d in fileset:\n",
    "    if not d in nEvents:\n",
    "        nEvents[d] = 0\n",
    "    for fName in fileset[d]:\n",
    "        with uproot.open(fName)['hEvents'] as hEvents:\n",
    "            nEvents[d] += hEvents.values()[0] + hEvents.values()[2]\n",
    "cx = {'TTGamma':7.509,\n",
    "     'TTbar': 380.095,\n",
    "     'WGamma':489,\n",
    "     'Z+jets':6077.22,\n",
    "     'W+3jets':1165.8108,\n",
    "     'W+4jets':592.9176}\n",
    "lumi_weight = {}\n",
    "for keyName in fileset:\n",
    "    lumi_weight[keyName] = (cx[keyName]*578.)/nEvents[keyName]\n",
    "    \n",
    "for key, obj in outputMC.items():\n",
    "    if isinstance(obj, hist.Hist):\n",
    "        obj.scale(lumi_weight, axis=\"dataset\")    \n",
    "            "
   ]
  },
  {
   "cell_type": "code",
   "execution_count": 10,
   "metadata": {},
   "outputs": [],
   "source": [
    "data_err_opts = {\n",
    "    'linestyle':'none',\n",
    "    'marker': '.',\n",
    "    'markersize': 10.,\n",
    "    'color':'k',\n",
    "    'elinewidth': 1,\n",
    "}"
   ]
  },
  {
   "cell_type": "code",
   "execution_count": 11,
   "metadata": {},
   "outputs": [
    {
     "data": {
      "text/plain": [
       "<matplotlib.axes._subplots.AxesSubplot at 0x7fac0414d0f0>"
      ]
     },
     "execution_count": 11,
     "metadata": {},
     "output_type": "execute_result"
    },
    {
     "data": {
      "image/png": "[encoded data removed]",
      "text/plain": [
       "<Figure size 432x288 with 1 Axes>"
      ]
     },
     "metadata": {
      "needs_background": "light"
     },
     "output_type": "display_data"
    }
   ],
   "source": [
    "hist.plot1d(outputData['tight_photon_pt'],overlay='dataset',error_opts=data_err_opts)\n",
    "hist.plot1d(outputMC['tight_photon_pt'],overlay='dataset',stack=True)\n"
   ]
  },
  {
   "cell_type": "code",
   "execution_count": 12,
   "metadata": {},
   "outputs": [
    {
     "data": {
      "text/plain": [
       "<matplotlib.axes._subplots.AxesSubplot at 0x7fabf77a31d0>"
      ]
     },
     "execution_count": 12,
     "metadata": {},
     "output_type": "execute_result"
    },
    {
     "data": {
      "image/png": "[encoded data removed]",
      "text/plain": [
       "<Figure size 432x288 with 1 Axes>"
      ]
     },
     "metadata": {
      "needs_background": "light"
     },
     "output_type": "display_data"
    }
   ],
   "source": [
    "hist.plot1d(outputData['photon_pt'],overlay='dataset',error_opts=data_err_opts)\n",
    "hist.plot1d(outputMC['photon_pt'],overlay='dataset',stack=True)"
   ]
  },
  {
   "cell_type": "code",
   "execution_count": 13,
   "metadata": {},
   "outputs": [
    {
     "data": {
      "text/plain": [
       "<matplotlib.axes._subplots.AxesSubplot at 0x7fabf72d7ba8>"
      ]
     },
     "execution_count": 13,
     "metadata": {},
     "output_type": "execute_result"
    },
    {
     "data": {
      "image/png": "[encoded data removed]",
      "text/plain": [
       "<Figure size 432x288 with 1 Axes>"
      ]
     },
     "metadata": {
      "needs_background": "light"
     },
     "output_type": "display_data"
    }
   ],
   "source": [
    "hist.plot1d(outputData['photon_eta'],overlay='dataset',error_opts=data_err_opts)\n",
    "hist.plot1d(outputMC['photon_eta'],overlay='dataset',stack=True)"
   ]
  },
  {
   "cell_type": "code",
   "execution_count": 14,
   "metadata": {},
   "outputs": [
    {
     "data": {
      "text/plain": [
       "<matplotlib.axes._subplots.AxesSubplot at 0x7fabf72df8d0>"
      ]
     },
     "execution_count": 14,
     "metadata": {},
     "output_type": "execute_result"
    },
    {
     "data": {
      "image/png": "[encoded data removed]",
      "text/plain": [
       "<Figure size 432x288 with 1 Axes>"
      ]
     },
     "metadata": {
      "needs_background": "light"
     },
     "output_type": "display_data"
    }
   ],
   "source": [
    "hist.plot1d(outputData['photon_phi'],overlay='dataset',error_opts=data_err_opts)\n",
    "hist.plot1d(outputMC['photon_phi'],overlay='dataset',stack=True)"
   ]
  },
  {
   "cell_type": "code",
   "execution_count": 15,
   "metadata": {},
   "outputs": [
    {
     "data": {
      "text/plain": [
       "<matplotlib.axes._subplots.AxesSubplot at 0x7fabf71f1630>"
      ]
     },
     "execution_count": 15,
     "metadata": {},
     "output_type": "execute_result"
    },
    {
     "data": {
      "image/png": "[encoded data removed]",
      "text/plain": [
       "<Figure size 432x288 with 1 Axes>"
      ]
     },
     "metadata": {
      "needs_background": "light"
     },
     "output_type": "display_data"
    }
   ],
   "source": [
    "hist.plot1d(outputData['photon_mass'],overlay='dataset',error_opts=data_err_opts)\n",
    "hist.plot1d(outputMC['photon_mass'],overlay='dataset',stack=True)"
   ]
  },
  {
   "cell_type": "code",
   "execution_count": null,
   "metadata": {},
   "outputs": [],
   "source": []
  }
 ],
 "metadata": {
  "kernelspec": {
   "display_name": "ttgenv",
   "language": "python",
   "name": "ttgenv"
  },
  "language_info": {
   "codemirror_mode": {
    "name": "ipython",
    "version": 3
   },
   "file_extension": ".py",
   "mimetype": "text/x-python",
   "name": "python",
   "nbconvert_exporter": "python",
   "pygments_lexer": "ipython3",
   "version": "3.6.5"
  }
 },
 "nbformat": 4,
 "nbformat_minor": 2
}
